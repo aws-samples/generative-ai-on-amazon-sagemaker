{
 "cells": [
  {
   "cell_type": "markdown",
   "id": "80b28a01-ec76-451b-a1e2-06050190da9d",
   "metadata": {},
   "source": [
    "# [Observability with Langfuse](https://aws.amazon.com/blogs/apn/transform-large-language-model-observability-with-langfuse)\n",
    "\n",
    "[Langfuse](https://langfuse.com/) is an open-source observability and analytics platform designed specifically for LLM applications. Langfuse helps you track, monitor, and analyze your LLM application's performance, costs, and behavior.\n",
    "\n",
    "With Langfuse, you can:\n",
    "\n",
    "- Track and analyze LLM interactions and their associated costs\n",
    "- Monitor model performance and latency\n",
    "- Debug production issues with detailed tracing\n",
    "- Evaluate output quality and model behavior\n",
    "- Collect user feedback and ground truth data and more.\n",
    "\n",
    "## Setup\n",
    "\n",
    "We'll walk through creating a Langfuse account, setting up a project, generating API credentials, and configuring custom model definitions. This will prepare us to start tracing our LLM applications.\n",
    "\n",
    "**Important**: for the sake of this workshop, we will not be creating a custom server running LangFuse, and will instead use the [SaaS version](https://cloud.langfuse.com/) of the product. If you want, you can learn how to host your own LangFuse server on [Langfuse doc](https://langfuse.com/self-hosting), or using this [GitHub repository](https://github.com/aws-samples/deploy-langfuse-on-ecs-with-fargate/).\n",
    "\n",
    "1. Start by **creating your account on [LangFuse Cloud](https://cloud.langfuse.com/)**\n",
    "1. Create a **New Organization** and enter an organization name, for example `AnyCompany`. Skip the Invite Members step.\n",
    "1. Enter a **name** for the new project and click **Create**.\n",
    "1. Note down the **Secret Key**, **Public Key** and **Host** on your computer. Note you can also find the credentials in the *Settings -> API Keys* page.\n",
    "1. We will be using the `langfuse` SDK to achieve our goals of obtaining traces and logs for our agents.\n",
    "\n",
    "\n",
    "## Tracing\n",
    "\n",
    "Let's get to tracing. Start by installing the required libraries:"
   ]
  },
  {
   "cell_type": "code",
   "execution_count": null,
   "id": "a5b12a89-d13e-4eb0-8080-dfa11cfb9c96",
   "metadata": {
    "execution": {
     "iopub.execute_input": "2025-06-06T23:38:31.548515Z",
     "iopub.status.busy": "2025-06-06T23:38:31.548234Z",
     "iopub.status.idle": "2025-06-06T23:38:31.554108Z",
     "shell.execute_reply": "2025-06-06T23:38:31.553245Z",
     "shell.execute_reply.started": "2025-06-06T23:38:31.548490Z"
    }
   },
   "outputs": [],
   "source": [
    "%%writefile .env\n",
    "\n",
    "# API Keys\n",
    "LANGFUSE_SECRET_KEY=\"<PLACE YOUR SECRET KEY>\"\n",
    "LANGFUSE_PUBLIC_KEY=\"<PLACE YOUR PUBLIC KEY>\"\n",
    "LANGFUSE_HOST=\"https://us.cloud.langfuse.com\" # US data region\n",
    "#LANGFUSE_HOST=\"https://cloud.langfuse.com\" # EU data region"
   ]
  },
  {
   "cell_type": "code",
   "execution_count": null,
   "id": "1e069cee-e43b-4b5c-8cdd-75605c4478b0",
   "metadata": {
    "execution": {
     "iopub.execute_input": "2025-06-06T15:39:12.015083Z",
     "iopub.status.busy": "2025-06-06T15:39:12.014691Z",
     "iopub.status.idle": "2025-06-06T15:39:13.954470Z",
     "shell.execute_reply": "2025-06-06T15:39:13.953592Z",
     "shell.execute_reply.started": "2025-06-06T15:39:12.015053Z"
    }
   },
   "outputs": [],
   "source": [
    "!pip install langfuse==2.60.8 --upgrade"
   ]
  }
 ],
 "metadata": {
  "kernelspec": {
   "display_name": "Python 3 (ipykernel)",
   "language": "python",
   "name": "python3"
  },
  "language_info": {
   "codemirror_mode": {
    "name": "ipython",
    "version": 3
   },
   "file_extension": ".py",
   "mimetype": "text/x-python",
   "name": "python",
   "nbconvert_exporter": "python",
   "pygments_lexer": "ipython3",
   "version": "3.12.9"
  }
 },
 "nbformat": 4,
 "nbformat_minor": 5
}
