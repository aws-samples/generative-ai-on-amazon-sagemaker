{
 "cells": [
  {
   "cell_type": "markdown",
   "id": "e05d69d6",
   "metadata": {},
   "source": [
    "# Installing Dependencies\n",
    "\n",
    "Please install the dependencies before proceeding with the rest of the workshop."
   ]
  },
  {
   "cell_type": "code",
   "execution_count": 2,
   "id": "18de50ca",
   "metadata": {
    "execution": {
     "iopub.execute_input": "2025-09-10T15:26:53.038020Z",
     "iopub.status.busy": "2025-09-10T15:26:53.037704Z",
     "iopub.status.idle": "2025-09-10T15:26:53.185121Z",
     "shell.execute_reply": "2025-09-10T15:26:53.184531Z",
     "shell.execute_reply.started": "2025-09-10T15:26:53.037993Z"
    }
   },
   "outputs": [
    {
     "name": "stdout",
     "output_type": "stream",
     "text": [
      "strands-agents==1.4.0\n",
      "strands-agents[sagemaker]\n",
      "strands-agents-tools>=0.2.3\n",
      "strands-agents-builder>=0.1.7\n",
      "yfinance==0.2.65\n",
      "matplotlib==3.10.3\n",
      "beautifulsoup4>=4.13.4\n",
      "pandas==2.3.0\n",
      "seaborn==0.13.2\n",
      "joblib==1.5.1\n",
      "requests>=2.32.4\n",
      "scikit-learn==1.7.0\n",
      "uv==0.8.6\n",
      "mem0ai==0.1.114\n",
      "opensearch-py\n",
      "ddgs==9.3.1\n",
      "faiss-cpu==1.11.0\n",
      "sagemaker==2.249.0\n",
      "openai==1.99.3\n",
      "aiohttp==3.12.15\n",
      "boto3==1.39.8\n",
      "bedrock-agentcore==0.1.1\n",
      "bedrock-agentcore-starter-toolkit==0.1.5\n",
      "botocore==1.39.8\n",
      "litellm==1.72.2\n"
     ]
    }
   ],
   "source": [
    "!cat requirements-strands.txt"
   ]
  },
  {
   "cell_type": "code",
   "execution_count": 3,
   "id": "d82dc1bd-c256-40a7-b25b-751ece4b43c1",
   "metadata": {
    "execution": {
     "iopub.execute_input": "2025-09-10T15:26:55.416854Z",
     "iopub.status.busy": "2025-09-10T15:26:55.416508Z",
     "iopub.status.idle": "2025-09-10T15:26:55.974046Z",
     "shell.execute_reply": "2025-09-10T15:26:55.973427Z",
     "shell.execute_reply.started": "2025-09-10T15:26:55.416830Z"
    }
   },
   "outputs": [
    {
     "name": "stdout",
     "output_type": "stream",
     "text": [
      "\u001b[33mWARNING: Skipping autogluon-multimodal as it is not installed.\u001b[0m\u001b[33m\n",
      "\u001b[0m\u001b[33mWARNING: Skipping autogluon-timeseries as it is not installed.\u001b[0m\u001b[33m\n",
      "\u001b[0m\u001b[33mWARNING: Skipping autogluon-features as it is not installed.\u001b[0m\u001b[33m\n",
      "\u001b[0m\u001b[33mWARNING: Skipping autogluon-common as it is not installed.\u001b[0m\u001b[33m\n",
      "\u001b[0m\u001b[33mWARNING: Skipping autogluon-core as it is not installed.\u001b[0m\u001b[33m\n",
      "\u001b[0mNote: you may need to restart the kernel to use updated packages.\n"
     ]
    }
   ],
   "source": [
    "# Warnings are safe to ignore\n",
    "%pip uninstall -q -y autogluon-multimodal autogluon-timeseries autogluon-features autogluon-common autogluon-core"
   ]
  },
  {
   "cell_type": "code",
   "execution_count": 4,
   "id": "1453ae11-d805-4f94-a299-7198638b80bf",
   "metadata": {
    "execution": {
     "iopub.execute_input": "2025-09-10T15:27:02.652613Z",
     "iopub.status.busy": "2025-09-10T15:27:02.652276Z",
     "iopub.status.idle": "2025-09-10T15:27:04.912916Z",
     "shell.execute_reply": "2025-09-10T15:27:04.912260Z",
     "shell.execute_reply.started": "2025-09-10T15:27:02.652587Z"
    }
   },
   "outputs": [
    {
     "name": "stdout",
     "output_type": "stream",
     "text": [
      "Note: you may need to restart the kernel to use updated packages.\n"
     ]
    }
   ],
   "source": [
    "%pip install -q -r requirements-strands.txt"
   ]
  },
  {
   "cell_type": "markdown",
   "id": "a3fd75f2",
   "metadata": {},
   "source": [
    "### This cell will restart the kernel. Wait for the pop-up box to appear, then click \"OK\" before proceeding."
   ]
  },
  {
   "cell_type": "code",
   "execution_count": 5,
   "id": "b96ff09e",
   "metadata": {
    "execution": {
     "iopub.execute_input": "2025-09-10T15:27:08.212243Z",
     "iopub.status.busy": "2025-09-10T15:27:08.211902Z",
     "iopub.status.idle": "2025-09-10T15:27:08.218540Z",
     "shell.execute_reply": "2025-09-10T15:27:08.218046Z",
     "shell.execute_reply.started": "2025-09-10T15:27:08.212217Z"
    }
   },
   "outputs": [
    {
     "data": {
      "text/plain": [
       "{'status': 'ok', 'restart': True}"
      ]
     },
     "execution_count": 5,
     "metadata": {},
     "output_type": "execute_result"
    }
   ],
   "source": [
    "from IPython import get_ipython\n",
    "get_ipython().kernel.do_shutdown(True)"
   ]
  },
  {
   "cell_type": "markdown",
   "id": "351d1369-51aa-47bb-800b-653b3a734a8a",
   "metadata": {},
   "source": [
    "### Cell below displays the installed versions of Strands libraries\n",
    "\n",
    "As a result of the `pip installs` above, this cell outputs the current versions of Strands libraries"
   ]
  },
  {
   "cell_type": "code",
   "execution_count": 1,
   "id": "9c692e9f-7072-4f90-aa8e-eda90ab04b3d",
   "metadata": {
    "execution": {
     "iopub.execute_input": "2025-09-10T15:27:13.593844Z",
     "iopub.status.busy": "2025-09-10T15:27:13.593542Z",
     "iopub.status.idle": "2025-09-10T15:27:14.977405Z",
     "shell.execute_reply": "2025-09-10T15:27:14.976815Z",
     "shell.execute_reply.started": "2025-09-10T15:27:13.593821Z"
    }
   },
   "outputs": [
    {
     "name": "stdout",
     "output_type": "stream",
     "text": [
      "Name: strands-agents\n",
      "Version: 1.4.0\n",
      "Summary: A model-driven approach to building AI agents in just a few lines of code\n",
      "Home-page: https://github.com/strands-agents/sdk-python\n",
      "Author: \n",
      "Author-email: AWS <opensource@amazon.com>\n",
      "License: Apache-2.0\n",
      "Location: /opt/conda/lib/python3.12/site-packages\n",
      "Requires: boto3, botocore, docstring-parser, mcp, opentelemetry-api, opentelemetry-instrumentation-threading, opentelemetry-sdk, pydantic, typing-extensions, watchdog\n",
      "Required-by: strands-agents-builder, strands-agents-tools\n",
      "---\n",
      "Name: strands-agents-tools\n",
      "Version: 0.2.6\n",
      "Summary: A collection of specialized tools for Strands Agents\n",
      "Home-page: https://github.com/strands-agents/tools\n",
      "Author: \n",
      "Author-email: AWS <opensource@amazon.com>\n",
      "License: Apache-2.0\n",
      "Location: /opt/conda/lib/python3.12/site-packages\n",
      "Requires: aiohttp, aws-requests-auth, botocore, dill, markdownify, pillow, prompt-toolkit, pyjwt, readabilipy, requests, rich, slack-bolt, strands-agents, sympy, tenacity, watchdog\n",
      "Required-by: strands-agents-builder\n",
      "Note: you may need to restart the kernel to use updated packages.\n"
     ]
    }
   ],
   "source": [
    "%pip show strands-agents strands-agents-tools"
   ]
  },
  {
   "cell_type": "code",
   "execution_count": null,
   "id": "c9687e1a-9b01-4a48-ba06-c370158f1caf",
   "metadata": {},
   "outputs": [],
   "source": []
  }
 ],
 "metadata": {
  "kernelspec": {
   "display_name": "Python 3 (ipykernel)",
   "language": "python",
   "name": "python3"
  },
  "language_info": {
   "codemirror_mode": {
    "name": "ipython",
    "version": 3
   },
   "file_extension": ".py",
   "mimetype": "text/x-python",
   "name": "python",
   "nbconvert_exporter": "python",
   "pygments_lexer": "ipython3",
   "version": "3.12.9"
  }
 },
 "nbformat": 4,
 "nbformat_minor": 5
}
